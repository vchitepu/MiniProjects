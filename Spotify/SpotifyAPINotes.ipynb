{
 "cells": [
  {
   "cell_type": "markdown",
   "metadata": {},
   "source": [
    "# Spotify API in Python\n",
    "By: Vinay Chitepu\n",
    "\n",
    "\n"
   ]
  },
  {
   "cell_type": "markdown",
   "metadata": {},
   "source": [
    "### Introduction\n",
    "\n",
    "A notebook detailing how to use the Spotify API. My personal notes and code snippets for future use on projects. Saved as APINoteApp in my spotify applications. "
   ]
  },
  {
   "cell_type": "markdown",
   "metadata": {},
   "source": [
    "### Importing the Spotipy Library\n",
    "\n",
    "**Spotipy** is a lightweight library that lets us use the Spotify API in Python. Documentation can be found at: https://spotipy.readthedocs.io/en/latest/"
   ]
  },
  {
   "cell_type": "code",
   "execution_count": 19,
   "metadata": {},
   "outputs": [],
   "source": [
    "import spotipy\n",
    "import spotipy.util as util # used for client authorization\n",
    "import json                 # help handling json "
   ]
  },
  {
   "cell_type": "markdown",
   "metadata": {},
   "source": [
    "### Setup and Authorization\n",
    "\n",
    "To use the Spotify API, you will need to do a little setup. We are going to be using the Client Credentials Code Flow. This will allow us to access user credentials but none of thier private accessibility like the ability to manipulate their following, playlists, saved songs, and playback settings. That will require the Authorization Code Flow and con only be used for your account. "
   ]
  },
  {
   "cell_type": "code",
   "execution_count": 20,
   "metadata": {},
   "outputs": [],
   "source": [
    "# 1. You will first need to make a spotify acount if you don't already have one\n",
    "# 2. Go to developer.spotify.com and login using your spotify credentials\n",
    "# 3. Once logged in, finish all initial setup required and the click on \"Get Client-ID\" \n",
    "# 4. Fill in required info. \n",
    "# 5. If prompted about commercial select \"no\" unless making an app for commercial purposes\n",
    "# 6. You should now be at the application page and be able to see the client-id and tab for client-secret\n",
    "\n",
    "# my spotify username\n",
    "username = \"vchitepu\"\n",
    "# client-id and client-secret\n",
    "cid = 'a283931dfa894cec8ecdea9f547695d2'\n",
    "csecret = ''\n",
    "\n",
    "# getting autorization token\n",
    "token = util.oauth2.SpotifyClientCredentials(client_id=cid, client_secret=csecret)\n",
    "cache_token = token.get_access_token()\n",
    "\n",
    "# creating Spotify object needs this authorication token\n",
    "sp = spotipy.Spotify(cache_token)\n",
    "\n",
    "# a lot of functions return json dumps. Lets make a function to print them nicer\n",
    "def printjson(l):\n",
    "    print(json.dumps(l, sort_keys = True, indent = 4))\n"
   ]
  },
  {
   "cell_type": "markdown",
   "metadata": {},
   "source": [
    "## Using Spotify\n",
    "\n",
    "Using the Spotipy library and it's available functions"
   ]
  },
  {
   "cell_type": "markdown",
   "metadata": {},
   "source": [
    "### User Information\n",
    "\n",
    "Using my roomates Spotify account as an example "
   ]
  },
  {
   "cell_type": "code",
   "execution_count": 21,
   "metadata": {},
   "outputs": [
    {
     "name": "stdout",
     "output_type": "stream",
     "text": [
      "{\n",
      "    \"display_name\": \"aakash21\",\n",
      "    \"external_urls\": {\n",
      "        \"spotify\": \"https://open.spotify.com/user/aakash21\"\n",
      "    },\n",
      "    \"followers\": {\n",
      "        \"href\": null,\n",
      "        \"total\": 13\n",
      "    },\n",
      "    \"href\": \"https://api.spotify.com/v1/users/aakash21\",\n",
      "    \"id\": \"aakash21\",\n",
      "    \"images\": [],\n",
      "    \"type\": \"user\",\n",
      "    \"uri\": \"spotify:user:aakash21\"\n",
      "}\n"
     ]
    }
   ],
   "source": [
    "# quick look at basic account information\n",
    "user = sp.user(\"aakash21\") # returns a json dump\n",
    "printjson(user) # our function from earlier"
   ]
  },
  {
   "cell_type": "code",
   "execution_count": 22,
   "metadata": {},
   "outputs": [
    {
     "name": "stdout",
     "output_type": "stream",
     "text": [
      "{\n",
      "    \"collaborative\": false,\n",
      "    \"external_urls\": {\n",
      "        \"spotify\": \"https://open.spotify.com/playlist/5fxhC9vT2swHKUQc90DN8P\"\n",
      "    },\n",
      "    \"href\": \"https://api.spotify.com/v1/playlists/5fxhC9vT2swHKUQc90DN8P\",\n",
      "    \"id\": \"5fxhC9vT2swHKUQc90DN8P\",\n",
      "    \"images\": [\n",
      "        {\n",
      "            \"height\": 640,\n",
      "            \"url\": \"https://mosaic.scdn.co/640/654d5dd9626d507fe4b55fb9d46cdd93f3d35e83ad0da21bfb412d68841dd06146e3d1b813a2ed56b8a0749054c0be9c30cbda8aeac2cf204e9fb86ee62fe416cc89fcde3e824e6f04d7ce4631127906\",\n",
      "            \"width\": 640\n",
      "        },\n",
      "        {\n",
      "            \"height\": 300,\n",
      "            \"url\": \"https://mosaic.scdn.co/300/654d5dd9626d507fe4b55fb9d46cdd93f3d35e83ad0da21bfb412d68841dd06146e3d1b813a2ed56b8a0749054c0be9c30cbda8aeac2cf204e9fb86ee62fe416cc89fcde3e824e6f04d7ce4631127906\",\n",
      "            \"width\": 300\n",
      "        },\n",
      "        {\n",
      "            \"height\": 60,\n",
      "            \"url\": \"https://mosaic.scdn.co/60/654d5dd9626d507fe4b55fb9d46cdd93f3d35e83ad0da21bfb412d68841dd06146e3d1b813a2ed56b8a0749054c0be9c30cbda8aeac2cf204e9fb86ee62fe416cc89fcde3e824e6f04d7ce4631127906\",\n",
      "            \"width\": 60\n",
      "        }\n",
      "    ],\n",
      "    \"name\": \"Cafe Society\",\n",
      "    \"owner\": {\n",
      "        \"display_name\": \"aakash21\",\n",
      "        \"external_urls\": {\n",
      "            \"spotify\": \"https://open.spotify.com/user/aakash21\"\n",
      "        },\n",
      "        \"href\": \"https://api.spotify.com/v1/users/aakash21\",\n",
      "        \"id\": \"aakash21\",\n",
      "        \"type\": \"user\",\n",
      "        \"uri\": \"spotify:user:aakash21\"\n",
      "    },\n",
      "    \"primary_color\": null,\n",
      "    \"public\": true,\n",
      "    \"snapshot_id\": \"MjYxLGNhMzZjNDY2OGRhMzA2YmZlOGIwZGIzY2VlMTYzYTAxYjQ2NzJlMzU=\",\n",
      "    \"tracks\": {\n",
      "        \"href\": \"https://api.spotify.com/v1/playlists/5fxhC9vT2swHKUQc90DN8P/tracks\",\n",
      "        \"total\": 842\n",
      "    },\n",
      "    \"type\": \"playlist\",\n",
      "    \"uri\": \"spotify:user:aakash21:playlist:5fxhC9vT2swHKUQc90DN8P\"\n",
      "}\n"
     ]
    }
   ],
   "source": [
    "# getting user playlists\n",
    "playlists = sp.user_playlists(\"aakash21\") # returns a json dump.\n",
    "\n",
    "# getting the first playlist in list\n",
    "printjson(playlists['items'][0])"
   ]
  },
  {
   "cell_type": "markdown",
   "metadata": {},
   "source": [
    "### Artist Information\n",
    "\n",
    "Looking at artists and their information"
   ]
  },
  {
   "cell_type": "code",
   "execution_count": 23,
   "metadata": {},
   "outputs": [
    {
     "data": {
      "text/plain": [
       "{'artists': {'href': 'https://api.spotify.com/v1/search?query=J+Cole&type=artist&offset=0&limit=1',\n",
       "  'items': [{'external_urls': {'spotify': 'https://open.spotify.com/artist/6l3HvQ5sa6mXTsMTB19rO5'},\n",
       "    'followers': {'href': None, 'total': 7004414},\n",
       "    'genres': ['conscious hip hop', 'hip hop', 'pop rap', 'rap'],\n",
       "    'href': 'https://api.spotify.com/v1/artists/6l3HvQ5sa6mXTsMTB19rO5',\n",
       "    'id': '6l3HvQ5sa6mXTsMTB19rO5',\n",
       "    'images': [{'height': 640,\n",
       "      'url': 'https://i.scdn.co/image/839defbfdeb72488b3b495e2c4e89990933f0167',\n",
       "      'width': 640},\n",
       "     {'height': 320,\n",
       "      'url': 'https://i.scdn.co/image/df0424ed9e3fd02f3c5a98dedd4307adb3df4eb3',\n",
       "      'width': 320},\n",
       "     {'height': 160,\n",
       "      'url': 'https://i.scdn.co/image/6c27976d222131de69da808b86c19c78859c1be0',\n",
       "      'width': 160}],\n",
       "    'name': 'J. Cole',\n",
       "    'popularity': 88,\n",
       "    'type': 'artist',\n",
       "    'uri': 'spotify:artist:6l3HvQ5sa6mXTsMTB19rO5'}],\n",
       "  'limit': 1,\n",
       "  'next': 'https://api.spotify.com/v1/search?query=J+Cole&type=artist&offset=1&limit=1',\n",
       "  'offset': 0,\n",
       "  'previous': None,\n",
       "  'total': 9}}"
      ]
     },
     "execution_count": 23,
     "metadata": {},
     "output_type": "execute_result"
    }
   ],
   "source": [
    "sp.search(q = \"J Cole\" , limit = 1, type = \"artist\" )"
   ]
  },
  {
   "cell_type": "markdown",
   "metadata": {},
   "source": [
    "#### Search Artists\n",
    "\n",
    "A quick code snippet that allows the user to search for an artist. It returns the top 5 results and prints them as well as some information on them"
   ]
  },
  {
   "cell_type": "code",
   "execution_count": 24,
   "metadata": {},
   "outputs": [
    {
     "name": "stdout",
     "output_type": "stream",
     "text": [
      "Enter an artist's name: Chance the Rapper\n",
      "\n",
      "Search Results \n",
      "\n",
      "Chance the Rapper:\n",
      "\t Followers: 3739861\n",
      "\t Popularity: 84\n",
      "\t Genres: ['conscious hip hop', 'hip hop', 'pop', 'pop rap', 'rap']\n",
      "\n",
      "Tribute to Justin Bieber Feat. Chance The Rapper:\n",
      "\t Followers: 99\n",
      "\t Popularity: 0\n",
      "\t Genres: []\n",
      "\n"
     ]
    }
   ],
   "source": [
    "a_name = input(\"Enter an artist's name: \")\n",
    "artist = sp.search(q = a_name , limit = 5, type = \"artist\")\n",
    "\n",
    "print('\\nSearch Results \\n')\n",
    "for a in artist[\"artists\"][\"items\"]:\n",
    "    print(a[\"name\"] + ':')\n",
    "    print(\"\\t Followers: \"+str(a[\"followers\"]['total']))\n",
    "    print(\"\\t Popularity: \"+ str(a['popularity']))\n",
    "    print(\"\\t Genres: \"+ str(a['genres'])+ \"\\n\")"
   ]
  },
  {
   "cell_type": "markdown",
   "metadata": {},
   "source": [
    "### Track Information\n",
    "\n",
    "Look at what can be done with tracks"
   ]
  },
  {
   "cell_type": "code",
   "execution_count": 31,
   "metadata": {},
   "outputs": [
    {
     "data": {
      "text/plain": [
       "['0v9Wz8o0BT8DU38R4ddjeH']"
      ]
     },
     "execution_count": 31,
     "metadata": {},
     "output_type": "execute_result"
    }
   ],
   "source": [
    "# getting track search results json dump\n",
    "tracks = sp.search(q = 'No Problem' , limit = 5, type = \"track\")['tracks']['items']\n",
    "\n",
    "# filtering for the song I want and getting it's id\n",
    "result = [x['id'] for x in tracks if x['artists'][0]['name'] == \"Chance the Rapper\"]\n",
    "result"
   ]
  },
  {
   "cell_type": "markdown",
   "metadata": {},
   "source": [
    "#### Audio Analysis"
   ]
  },
  {
   "cell_type": "code",
   "execution_count": 32,
   "metadata": {},
   "outputs": [
    {
     "data": {
      "text/plain": [
       "'Chance the Rapper'"
      ]
     },
     "execution_count": 32,
     "metadata": {},
     "output_type": "execute_result"
    }
   ],
   "source": [
    "# getting a track and confirming the id is correct\n",
    "tid = result[0]\n",
    "angels = sp.track(tid)\n",
    "angels['artists'][0]['name']"
   ]
  },
  {
   "cell_type": "code",
   "execution_count": 34,
   "metadata": {
    "scrolled": true
   },
   "outputs": [],
   "source": [
    "# very long in depth analysis for every moment of the song.\n",
    "angels_analysis = sp.audio_analysis(tid)\n",
    "# printjson(angels_analysis) # printing the first 2 sections information"
   ]
  },
  {
   "cell_type": "code",
   "execution_count": 35,
   "metadata": {},
   "outputs": [
    {
     "data": {
      "text/plain": [
       "[{'acousticness': 0.156,\n",
       "  'analysis_url': 'https://api.spotify.com/v1/audio-analysis/0v9Wz8o0BT8DU38R4ddjeH',\n",
       "  'danceability': 0.652,\n",
       "  'duration_ms': 304607,\n",
       "  'energy': 0.795,\n",
       "  'id': '0v9Wz8o0BT8DU38R4ddjeH',\n",
       "  'instrumentalness': 0,\n",
       "  'key': 11,\n",
       "  'liveness': 0.123,\n",
       "  'loudness': -5.192,\n",
       "  'mode': 0,\n",
       "  'speechiness': 0.174,\n",
       "  'tempo': 135.018,\n",
       "  'time_signature': 4,\n",
       "  'track_href': 'https://api.spotify.com/v1/tracks/0v9Wz8o0BT8DU38R4ddjeH',\n",
       "  'type': 'audio_features',\n",
       "  'uri': 'spotify:track:0v9Wz8o0BT8DU38R4ddjeH',\n",
       "  'valence': 0.788}]"
      ]
     },
     "execution_count": 35,
     "metadata": {},
     "output_type": "execute_result"
    }
   ],
   "source": [
    "angels_features = sp.audio_features(tid)\n",
    "angels_features"
   ]
  },
  {
   "cell_type": "markdown",
   "metadata": {},
   "source": [
    "## Documentation\n",
    "\n",
    "Link to API Documentation: https://spotipy.readthedocs.io/en/latest/"
   ]
  },
  {
   "cell_type": "code",
   "execution_count": null,
   "metadata": {},
   "outputs": [],
   "source": []
  }
 ],
 "metadata": {
  "kernelspec": {
   "display_name": "Python 3",
   "language": "python",
   "name": "python3"
  },
  "language_info": {
   "codemirror_mode": {
    "name": "ipython",
    "version": 3
   },
   "file_extension": ".py",
   "mimetype": "text/x-python",
   "name": "python",
   "nbconvert_exporter": "python",
   "pygments_lexer": "ipython3",
   "version": "3.6.4"
  }
 },
 "nbformat": 4,
 "nbformat_minor": 2
}
